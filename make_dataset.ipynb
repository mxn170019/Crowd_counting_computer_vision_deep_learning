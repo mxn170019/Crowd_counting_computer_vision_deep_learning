{
  "nbformat": 4,
  "nbformat_minor": 0,
  "metadata": {
    "kernelspec": {
      "name": "python3",
      "display_name": "Python 3"
    },
    "language_info": {
      "codemirror_mode": {
        "name": "ipython",
        "version": 3
      },
      "file_extension": ".py",
      "mimetype": "text/x-python",
      "name": "python",
      "nbconvert_exporter": "python",
      "pygments_lexer": "ipython3",
      "version": "3.7.2"
    },
    "colab": {
      "name": "make_dataset.ipynb",
      "provenance": [],
      "collapsed_sections": [
        "_isoK5YdOO8Y"
      ],
      "include_colab_link": true
    },
    "accelerator": "TPU"
  },
  "cells": [
    {
      "cell_type": "markdown",
      "metadata": {
        "id": "view-in-github",
        "colab_type": "text"
      },
      "source": [
        "<a href=\"https://colab.research.google.com/github/mxn170019/Crowd_counting_computer_vision_deep_learning/blob/master/make_dataset.ipynb\" target=\"_parent\"><img src=\"https://colab.research.google.com/assets/colab-badge.svg\" alt=\"Open In Colab\"/></a>"
      ]
    },
    {
      "cell_type": "code",
      "metadata": {
        "id": "s4gHg7l4OCDz",
        "colab_type": "code",
        "colab": {}
      },
      "source": [
        "# !pip3 install --upgrade pip\n",
        "# !pip3 install opencv-python\n"
      ],
      "execution_count": 0,
      "outputs": []
    },
    {
      "cell_type": "markdown",
      "metadata": {
        "id": "_isoK5YdOO8Y",
        "colab_type": "text"
      },
      "source": [
        "# Take Image from webcam"
      ]
    },
    {
      "cell_type": "code",
      "metadata": {
        "id": "Q-LUbexsPBXT",
        "colab_type": "code",
        "colab": {}
      },
      "source": [
        "from IPython.display import display, Javascript\n",
        "from google.colab.output import eval_js\n",
        "from base64 import b64decode\n",
        "\n",
        "def take_photo(filename='photo.jpg', quality=0.8):\n",
        "  js = Javascript('''\n",
        "    async function takePhoto(quality) {\n",
        "      const div = document.createElement('div');\n",
        "      const capture = document.createElement('button');\n",
        "      capture.textContent = 'Capture';\n",
        "      div.appendChild(capture);\n",
        "\n",
        "      const video = document.createElement('video');\n",
        "      video.style.display = 'block';\n",
        "      const stream = await navigator.mediaDevices.getUserMedia({video: true});\n",
        "\n",
        "      document.body.appendChild(div);\n",
        "      div.appendChild(video);\n",
        "      video.srcObject = stream;\n",
        "      await video.play();\n",
        "\n",
        "      // Resize the output to fit the video element.\n",
        "      google.colab.output.setIframeHeight(document.documentElement.scrollHeight, true);\n",
        "\n",
        "      // Wait for Capture to be clicked.\n",
        "      await new Promise((resolve) => capture.onclick = resolve);\n",
        "\n",
        "      const canvas = document.createElement('canvas');\n",
        "      canvas.width = video.videoWidth;\n",
        "      canvas.height = video.videoHeight;\n",
        "      canvas.getContext('2d').drawImage(video, 0, 0);\n",
        "      stream.getVideoTracks()[0].stop();\n",
        "      div.remove();\n",
        "      return canvas.toDataURL('image/jpeg', quality);\n",
        "    }\n",
        "    ''')\n",
        "  display(js)\n",
        "  data = eval_js('takePhoto({})'.format(quality))\n",
        "  binary = b64decode(data.split(',')[1])\n",
        "  with open(filename, 'wb') as f:\n",
        "    f.write(binary)\n",
        "  return filename"
      ],
      "execution_count": 0,
      "outputs": []
    },
    {
      "cell_type": "code",
      "metadata": {
        "id": "AgTPdr4gPBWX",
        "colab_type": "code",
        "colab": {}
      },
      "source": [
        "from IPython.display import Image\n",
        "try:\n",
        "  filename = take_photo()\n",
        "  print('Saved to {}'.format(filename))\n",
        "  \n",
        "  # Show the image which was just taken.\n",
        "  display(Image(filename))\n",
        "except Exception as err:\n",
        "  # Errors will be thrown if the user does not have a webcam or if they do not\n",
        "  # grant the page permission to access it.\n",
        "  print(str(err))"
      ],
      "execution_count": 0,
      "outputs": []
    },
    {
      "cell_type": "markdown",
      "metadata": {
        "id": "SUryKW0sQBBU",
        "colab_type": "text"
      },
      "source": [
        "# Make Data "
      ]
    },
    {
      "cell_type": "code",
      "metadata": {
        "id": "ICdM4EKG_Jrl",
        "colab_type": "code",
        "colab": {
          "base_uri": "https://localhost:8080/",
          "height": 122
        },
        "outputId": "c12b4483-d0c7-427e-a526-c80568975d79"
      },
      "source": [
        "from google.colab import drive\n",
        "drive.mount('/content/drive')"
      ],
      "execution_count": 1,
      "outputs": [
        {
          "output_type": "stream",
          "text": [
            "Go to this URL in a browser: https://accounts.google.com/o/oauth2/auth?client_id=947318989803-6bn6qk8qdgf4n4g3pfee6491hc0brc4i.apps.googleusercontent.com&redirect_uri=urn%3Aietf%3Awg%3Aoauth%3A2.0%3Aoob&scope=email%20https%3A%2F%2Fwww.googleapis.com%2Fauth%2Fdocs.test%20https%3A%2F%2Fwww.googleapis.com%2Fauth%2Fdrive%20https%3A%2F%2Fwww.googleapis.com%2Fauth%2Fdrive.photos.readonly%20https%3A%2F%2Fwww.googleapis.com%2Fauth%2Fpeopleapi.readonly&response_type=code\n",
            "\n",
            "Enter your authorization code:\n",
            "··········\n",
            "Mounted at /content/drive\n"
          ],
          "name": "stdout"
        }
      ]
    },
    {
      "cell_type": "code",
      "metadata": {
        "id": "YbV2aokuOCEB",
        "colab_type": "code",
        "colab": {}
      },
      "source": [
        "import h5py\n",
        "import scipy.io as io\n",
        "import PIL.Image as Image\n",
        "import numpy as np\n",
        "import os\n",
        "import glob\n",
        "from matplotlib import pyplot as plt\n",
        "from scipy import spatial\n",
        "\n",
        "from scipy.ndimage.filters import gaussian_filter \n",
        "import scipy\n",
        "import json\n",
        "from matplotlib import cm as CM\n",
        "from image import *\n",
        "import torch\n",
        "from model import CSRNet\n",
        "\n",
        "\n",
        "from zipfile import ZipFile\n",
        "\n",
        "%matplotlib inline"
      ],
      "execution_count": 0,
      "outputs": []
    },
    {
      "cell_type": "code",
      "metadata": {
        "id": "5QlUzk2BOCEH",
        "colab_type": "code",
        "colab": {}
      },
      "source": [
        "# # unzip the data file\n",
        "# zf = ZipFile('/content/ShanghaiTech.zip', 'r')\n",
        "# zf.extractall('/content/')\n",
        "# zf.close()"
      ],
      "execution_count": 0,
      "outputs": []
    },
    {
      "cell_type": "code",
      "metadata": {
        "id": "jUA3EwzqOCEN",
        "colab_type": "code",
        "colab": {}
      },
      "source": [
        "# function to create density maps for images\n",
        "def gaussian_filter_density(gt):\n",
        "    print (gt.shape)\n",
        "    density = np.zeros(gt.shape, dtype=np.float32)\n",
        "    gt_count = np.count_nonzero(gt)\n",
        "    if gt_count == 0:\n",
        "        return density\n",
        "\n",
        "    pts = np.array(list(zip(np.nonzero(gt)[1], np.nonzero(gt)[0])))\n",
        "    leafsize = 2048\n",
        "    # build kdtree\n",
        "    tree = spatial.KDTree(pts.copy(), leafsize=leafsize)\n",
        "    # query kdtree\n",
        "    distances, locations = tree.query(pts, k=4)\n",
        "\n",
        "    print ('generate density...')\n",
        "    for i, pt in enumerate(pts):\n",
        "        pt2d = np.zeros(gt.shape, dtype=np.float32)\n",
        "        pt2d[pt[1],pt[0]] = 1.\n",
        "        if gt_count > 1:\n",
        "            sigma = (distances[i][1]+distances[i][2]+distances[i][3])*0.1\n",
        "        else:\n",
        "            sigma = np.average(np.array(gt.shape))/2./2. #case: 1 point\n",
        "        density += scipy.ndimage.filters.gaussian_filter(pt2d, sigma, mode='constant')\n",
        "    print ('done.')\n",
        "    return density\n"
      ],
      "execution_count": 0,
      "outputs": []
    },
    {
      "cell_type": "code",
      "metadata": {
        "id": "FZC12LMzOCER",
        "colab_type": "code",
        "colab": {}
      },
      "source": [
        "#set the root to the Shanghai dataset you download\n",
        "root = '/content/drive/My Drive/ShanghaiTech'"
      ],
      "execution_count": 0,
      "outputs": []
    },
    {
      "cell_type": "code",
      "metadata": {
        "id": "1fMEg4RHOCFB",
        "colab_type": "code",
        "colab": {}
      },
      "source": [
        "#now generate the ShanghaiA's ground truth\n",
        "part_A_train = os.path.join(root,'part_A/train_data','images')\n",
        "part_A_test = os.path.join(root,'part_A/test_data','images')\n",
        "part_B_train = os.path.join(root,'part_B/train_data','images')\n",
        "part_B_test = os.path.join(root,'part_B/test_data','images')\n",
        "path_sets = [part_A_train,part_A_test]"
      ],
      "execution_count": 0,
      "outputs": []
    },
    {
      "cell_type": "code",
      "metadata": {
        "id": "Y2TEwJu3OCFG",
        "colab_type": "code",
        "colab": {}
      },
      "source": [
        "img_paths = []\n",
        "for path in path_sets:\n",
        "    for img_path in glob.glob(os.path.join(path, '*.jpg')):\n",
        "        img_paths.append(img_path)"
      ],
      "execution_count": 0,
      "outputs": []
    },
    {
      "cell_type": "code",
      "metadata": {
        "id": "BIonwXrROCFJ",
        "colab_type": "code",
        "outputId": "4956ad8a-8b89-4dd5-f63d-8ed04fc693a8",
        "colab": {
          "base_uri": "https://localhost:8080/",
          "height": 476
        }
      },
      "source": [
        "for img_path in img_paths:\n",
        "    print (img_path)\n",
        "    mat = io.loadmat(img_path.replace('.jpg','.mat').replace('images','ground-truth').replace('IMG_','GT_IMG_'))\n",
        "    img= plt.imread(img_path)\n",
        "    k = np.zeros((img.shape[0],img.shape[1]))\n",
        "    gt = mat[\"image_info\"][0,0][0,0][0]\n",
        "    for i in range(0,len(gt)):\n",
        "        if int(gt[i][1])<img.shape[0] and int(gt[i][0])<img.shape[1]:\n",
        "            k[int(gt[i][1]),int(gt[i][0])]=1\n",
        "    k = gaussian_filter_density(k)\n",
        "    with h5py.File(img_path.replace('.jpg','.h5').replace('images','ground-truth'), 'w') as hf:\n",
        "            hf['density'] = k"
      ],
      "execution_count": 0,
      "outputs": [
        {
          "output_type": "stream",
          "text": [
            "/content/drive/My Drive/ShanghaiTech/part_A/train_data/images/IMG_128.jpg\n",
            "(683, 1024)\n",
            "generate density...\n",
            "done.\n",
            "/content/drive/My Drive/ShanghaiTech/part_A/train_data/images/IMG_13.jpg\n",
            "(747, 1024)\n",
            "generate density...\n",
            "done.\n",
            "/content/drive/My Drive/ShanghaiTech/part_A/train_data/images/IMG_274.jpg\n",
            "(681, 1024)\n",
            "generate density...\n",
            "done.\n",
            "/content/drive/My Drive/ShanghaiTech/part_A/train_data/images/IMG_261.jpg\n",
            "(359, 478)\n",
            "generate density...\n",
            "done.\n",
            "/content/drive/My Drive/ShanghaiTech/part_A/train_data/images/IMG_275.jpg\n",
            "(270, 360)\n",
            "generate density...\n",
            "done.\n",
            "/content/drive/My Drive/ShanghaiTech/part_A/train_data/images/IMG_103.jpg\n",
            "(400, 400)\n",
            "generate density...\n",
            "done.\n",
            "/content/drive/My Drive/ShanghaiTech/part_A/train_data/images/IMG_117.jpg\n",
            "(579, 840)\n",
            "generate density...\n"
          ],
          "name": "stdout"
        }
      ]
    },
    {
      "cell_type": "code",
      "metadata": {
        "id": "j4J8ioYHOCFR",
        "colab_type": "code",
        "colab": {}
      },
      "source": [
        "#now see a sample from ShanghaiA\n",
        "plt.imshow(Image.open(img_paths[0]))\n",
        "plt.show()"
      ],
      "execution_count": 0,
      "outputs": []
    },
    {
      "cell_type": "code",
      "metadata": {
        "id": "Hx02Qc5hOCFU",
        "colab_type": "code",
        "colab": {}
      },
      "source": [
        "gt_file = h5py.File(img_paths[0].replace('.jpg','.h5').replace('images','ground-truth'),'r')\n",
        "groundtruth = np.asarray(gt_file['density'])\n",
        "plt.imshow(groundtruth,cmap=CM.jet)"
      ],
      "execution_count": 0,
      "outputs": []
    },
    {
      "cell_type": "code",
      "metadata": {
        "id": "HzPB46h7OCFX",
        "colab_type": "code",
        "colab": {}
      },
      "source": [
        "np.sum(groundtruth)# don't mind this slight variation"
      ],
      "execution_count": 0,
      "outputs": []
    },
    {
      "cell_type": "code",
      "metadata": {
        "scrolled": true,
        "id": "wQW84ngeOCFk",
        "colab_type": "code",
        "colab": {}
      },
      "source": [
        "path_sets = [part_B_train,part_B_test]\n",
        "img_paths = []\n",
        "for path in path_sets:\n",
        "    for img_path in glob.glob(os.path.join(path, '*.jpg')):\n",
        "        img_paths.append(img_path)\n",
        "        \n",
        "# creating density map for part_b images\n",
        "\n",
        "for img_path in img_paths:\n",
        "    print (img_path)\n",
        "    mat = io.loadmat(img_path.replace('.jpg','.mat').replace('images','ground-truth').replace('IMG_','GT_IMG_'))\n",
        "    img= plt.imread(img_path)\n",
        "    k = np.zeros((img.shape[0],img.shape[1]))\n",
        "    gt = mat[\"image_info\"][0,0][0,0][0]\n",
        "    for i in range(0,len(gt)):\n",
        "        if int(gt[i][1])<img.shape[0] and int(gt[i][0])<img.shape[1]:\n",
        "            k[int(gt[i][1]),int(gt[i][0])]=1\n",
        "    k = gaussian_filter_density(k)\n",
        "    with h5py.File(img_path.replace('.jpg','.h5').replace('images','ground-truth'), 'w') as hf:\n",
        "            hf['density'] = k"
      ],
      "execution_count": 0,
      "outputs": []
    },
    {
      "cell_type": "code",
      "metadata": {
        "id": "WcSQ7QPq-1ry",
        "colab_type": "code",
        "colab": {}
      },
      "source": [
        ""
      ],
      "execution_count": 0,
      "outputs": []
    }
  ]
}